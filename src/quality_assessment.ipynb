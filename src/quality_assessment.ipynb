{
 "cells": [
  {
   "cell_type": "markdown",
   "metadata": {
    "id": "aSm5aaRLtFLx"
   },
   "source": [
    "# Quality Assessment"
   ]
  },
  {
   "cell_type": "code",
   "execution_count": null,
   "metadata": {
    "id": "Lq7zsZka4q2m"
   },
   "outputs": [],
   "source": [
    "import pandas as pd"
   ]
  },
  {
   "cell_type": "markdown",
   "metadata": {
    "id": "hzwXSr-xfh97"
   },
   "source": [
    "## 1. Loading the cleaned DataFrames"
   ]
  },
  {
   "cell_type": "code",
   "execution_count": null,
   "metadata": {
    "id": "30IJsE7t49Eu"
   },
   "outputs": [],
   "source": [
    "# load orders_cleaned.csv from the directory data\n",
    "orders_cl = pd.read_csv(\"orders_cleaned.csv\")"
   ]
  },
  {
   "cell_type": "code",
   "execution_count": null,
   "metadata": {
    "id": "c9RLm2nkhxM7"
   },
   "outputs": [],
   "source": [
    "# load orderlines_cleaned.csv from the directory data\n",
    "orderlines_cl = pd.read_csv(\"orderlines_cleaned.csv\")"
   ]
  },
  {
   "cell_type": "code",
   "execution_count": null,
   "metadata": {
    "id": "d0Ky5SRzhuRj"
   },
   "outputs": [],
   "source": [
    "# load products_cleaned.csv from the directory data\n",
    "products_cl = pd.read_csv(\"products_cleaned.csv\")"
   ]
  },
  {
   "cell_type": "code",
   "execution_count": null,
   "metadata": {
    "colab": {
     "base_uri": "https://localhost:8080/"
    },
    "executionInfo": {
     "elapsed": 591,
     "status": "ok",
     "timestamp": 1703333505532,
     "user": {
      "displayName": "Hanne Pruefer",
      "userId": "00023317629764901987"
     },
     "user_tz": -60
    },
    "id": "FR4sE3DQUhHy",
    "outputId": "72367cf0-be9b-4b8f-a4b0-ff0613ee3a1d"
   },
   "outputs": [
    {
     "name": "stdout",
     "output_type": "stream",
     "text": [
      "<class 'pandas.core.frame.DataFrame'>\n",
      "RangeIndex: 226904 entries, 0 to 226903\n",
      "Data columns (total 4 columns):\n",
      " #   Column        Non-Null Count   Dtype  \n",
      "---  ------        --------------   -----  \n",
      " 0   order_id      226904 non-null  int64  \n",
      " 1   created_date  226904 non-null  object \n",
      " 2   total_paid    226904 non-null  float64\n",
      " 3   state         226904 non-null  object \n",
      "dtypes: float64(1), int64(1), object(2)\n",
      "memory usage: 6.9+ MB\n"
     ]
    }
   ],
   "source": [
    "orders_cl.info()"
   ]
  },
  {
   "cell_type": "code",
   "execution_count": null,
   "metadata": {
    "id": "SLikKmNx4WNo"
   },
   "outputs": [],
   "source": [
    "pd.set_option('display.float_format', lambda x: '%.2f' % x)\n",
    "pd.set_option('display.max_rows', 1000)"
   ]
  },
  {
   "cell_type": "markdown",
   "metadata": {
    "id": "M0NhTKzF6jV4"
   },
   "source": [
    "## 2.&nbsp; Excluding unwanted orders\n",
    "Keep only order_ids that are Completed by the Customer --> Completed and Place Order\n",
    "\n"
   ]
  },
  {
   "cell_type": "code",
   "execution_count": null,
   "metadata": {
    "id": "ja0XpsDDkZrT"
   },
   "outputs": [],
   "source": [
    "orders_cl2 = orders_cl.loc[orders_cl[\"state\"].isin([\"Completed\", \"Place Order\"]),:]"
   ]
  },
  {
   "cell_type": "code",
   "execution_count": null,
   "metadata": {
    "colab": {
     "base_uri": "https://localhost:8080/"
    },
    "executionInfo": {
     "elapsed": 31,
     "status": "ok",
     "timestamp": 1703333505534,
     "user": {
      "displayName": "Hanne Pruefer",
      "userId": "00023317629764901987"
     },
     "user_tz": -60
    },
    "id": "xAA7oxDFfWer",
    "outputId": "aec8ea2b-b322-4e50-ed25-7a70e4410391"
   },
   "outputs": [
    {
     "data": {
      "text/plain": [
       "state\n",
       "Cancelled            7233\n",
       "Completed           46605\n",
       "Pending             14374\n",
       "Place Order         40883\n",
       "Shopping Basket    117809\n",
       "Name: order_id, dtype: int64"
      ]
     },
     "execution_count": 8,
     "metadata": {},
     "output_type": "execute_result"
    }
   ],
   "source": [
    "orders_cl.groupby(\"state\")[\"order_id\"].count()"
   ]
  },
  {
   "cell_type": "code",
   "execution_count": null,
   "metadata": {
    "colab": {
     "base_uri": "https://localhost:8080/"
    },
    "executionInfo": {
     "elapsed": 29,
     "status": "ok",
     "timestamp": 1703333505535,
     "user": {
      "displayName": "Hanne Pruefer",
      "userId": "00023317629764901987"
     },
     "user_tz": -60
    },
    "id": "QSXbm49HfBGi",
    "outputId": "a2bf0be4-6d7b-4a35-d4fb-c375610fa27b"
   },
   "outputs": [
    {
     "data": {
      "text/plain": [
       "state\n",
       "Completed      46605\n",
       "Place Order    40883\n",
       "Name: order_id, dtype: int64"
      ]
     },
     "execution_count": 9,
     "metadata": {},
     "output_type": "execute_result"
    }
   ],
   "source": [
    "orders_cl2.groupby(\"state\")[\"order_id\"].count()"
   ]
  },
  {
   "cell_type": "markdown",
   "metadata": {
    "id": "F-rtzwAn7WyS"
   },
   "source": [
    "## 3.&nbsp; Exclude orders with unknown products\n",
    "Keep only order_ids that are present in orders and orderlines,\n",
    "Keep only order_ids that contain products with valid SKUS.\n",
    "Exclude  complete order_ids, when single orderlines do not qualify"
   ]
  },
  {
   "cell_type": "code",
   "execution_count": null,
   "metadata": {
    "id": "EF4zb3Qfjfi9"
   },
   "outputs": [],
   "source": [
    "# rename id_order to match orderlines nameing\n",
    "orderlines_cl = orderlines_cl.rename(columns={\"id_order\":\"order_id\"})"
   ]
  },
  {
   "cell_type": "code",
   "execution_count": null,
   "metadata": {
    "id": "NesoOOLQiszB"
   },
   "outputs": [],
   "source": [
    "#store all ids from orders table in list\n",
    "order_ids = orders_cl2[\"order_id\"].to_list()"
   ]
  },
  {
   "cell_type": "code",
   "execution_count": null,
   "metadata": {
    "id": "OMHAZ02TjPYo"
   },
   "outputs": [],
   "source": [
    "#keep only order_ids that are in the orders table\n",
    "orderlines_qu = orderlines_cl.loc[orderlines_cl[\"order_id\"].isin(order_ids),:].copy()"
   ]
  },
  {
   "cell_type": "code",
   "execution_count": null,
   "metadata": {
    "id": "rr5dPzsFufTY"
   },
   "outputs": [],
   "source": [
    "#Merge with orders to match both sides\n",
    "ord_orderlines_qu = orderlines_qu.merge(orders_cl2,how=\"inner\")"
   ]
  },
  {
   "cell_type": "code",
   "execution_count": null,
   "metadata": {
    "id": "EAKyNaX1u3Ai"
   },
   "outputs": [],
   "source": [
    "ids_in_both_list = list(ord_orderlines_qu[\"order_id\"].unique())"
   ]
  },
  {
   "cell_type": "code",
   "execution_count": null,
   "metadata": {
    "id": "VxZt2HkQu_mA"
   },
   "outputs": [],
   "source": [
    "#create the merged version in both singular DFs\n",
    "orderlines_qu = orderlines_qu.loc[orderlines_cl[\"order_id\"].isin(ids_in_both_list),:]"
   ]
  },
  {
   "cell_type": "code",
   "execution_count": null,
   "metadata": {
    "id": "qPpC1u-LvG-R"
   },
   "outputs": [],
   "source": [
    "#create the merged version in both singular DFs\n",
    "orders_qu = orders_cl2.loc[orders_cl2[\"order_id\"].isin(ids_in_both_list),:].copy()"
   ]
  },
  {
   "cell_type": "code",
   "execution_count": null,
   "metadata": {
    "colab": {
     "base_uri": "https://localhost:8080/"
    },
    "executionInfo": {
     "elapsed": 514,
     "status": "ok",
     "timestamp": 1703333506528,
     "user": {
      "displayName": "Hanne Pruefer",
      "userId": "00023317629764901987"
     },
     "user_tz": -60
    },
    "id": "kBd5ippmvR9R",
    "outputId": "f2dca8ff-ee56-4e46-9da3-d6c1c46bab02"
   },
   "outputs": [
    {
     "data": {
      "text/plain": [
       "(75139, 75139)"
      ]
     },
     "execution_count": 17,
     "metadata": {},
     "output_type": "execute_result"
    }
   ],
   "source": [
    "len(list(orders_qu[\"order_id\"].unique())), len(list(orderlines_qu[\"order_id\"].unique()))"
   ]
  },
  {
   "cell_type": "code",
   "execution_count": null,
   "metadata": {
    "id": "2KhL8Sv-koCx"
   },
   "outputs": [],
   "source": [
    "# secure the consistency of SKUs -- all skus from the product table\n",
    "skus_known= products_cl[\"sku\"].to_list()"
   ]
  },
  {
   "cell_type": "code",
   "execution_count": null,
   "metadata": {
    "colab": {
     "base_uri": "https://localhost:8080/"
    },
    "executionInfo": {
     "elapsed": 34,
     "status": "ok",
     "timestamp": 1703333506531,
     "user": {
      "displayName": "Hanne Pruefer",
      "userId": "00023317629764901987"
     },
     "user_tz": -60
    },
    "id": "6MR93xpuvces",
    "outputId": "5a7c3d4b-19d6-4865-a390-83bf9c31a346"
   },
   "outputs": [
    {
     "data": {
      "text/plain": [
       "True     94619\n",
       "False     1934\n",
       "Name: sku, dtype: int64"
      ]
     },
     "execution_count": 19,
     "metadata": {},
     "output_type": "execute_result"
    }
   ],
   "source": [
    "#there are orders in the orderlines table with unknown SKUS - need to be dropped\n",
    "orderlines_qu.sku.isin(skus_known).value_counts()"
   ]
  },
  {
   "cell_type": "code",
   "execution_count": null,
   "metadata": {
    "id": "Of9KXMHUjsLH"
   },
   "outputs": [],
   "source": [
    "#find order_ids that do not have these SKUS\n",
    "orders_with_skus = orderlines_qu.loc[~(orderlines_qu[\"sku\"].isin(skus_known)),\"order_id\"].to_list()"
   ]
  },
  {
   "cell_type": "code",
   "execution_count": null,
   "metadata": {
    "id": "Wx6y8FhkmR5Z"
   },
   "outputs": [],
   "source": [
    "#Exclude these order_ids in orderlines\n",
    "orderlines_qu = orderlines_qu.loc[~(orderlines_qu[\"order_id\"].isin(orders_with_skus)),:]"
   ]
  },
  {
   "cell_type": "code",
   "execution_count": null,
   "metadata": {
    "id": "n2uzHtZOj3sw"
   },
   "outputs": [],
   "source": [
    "#exclude in orders\n",
    "orders_qu = orders_qu.loc[~(orders_qu[\"order_id\"].isin(orders_with_skus)),:]"
   ]
  },
  {
   "cell_type": "code",
   "execution_count": null,
   "metadata": {
    "colab": {
     "base_uri": "https://localhost:8080/"
    },
    "executionInfo": {
     "elapsed": 26,
     "status": "ok",
     "timestamp": 1703333506533,
     "user": {
      "displayName": "Hanne Pruefer",
      "userId": "00023317629764901987"
     },
     "user_tz": -60
    },
    "id": "V1oUVy2ckHkS",
    "outputId": "7ab6fdc5-1b6a-4fb0-a576-f18d48efd926"
   },
   "outputs": [
    {
     "name": "stdout",
     "output_type": "stream",
     "text": [
      "<class 'pandas.core.frame.DataFrame'>\n",
      "Int64Index: 93349 entries, 1 to 293980\n",
      "Data columns (total 7 columns):\n",
      " #   Column            Non-Null Count  Dtype  \n",
      "---  ------            --------------  -----  \n",
      " 0   id                93349 non-null  int64  \n",
      " 1   order_id          93349 non-null  int64  \n",
      " 2   product_id        93349 non-null  int64  \n",
      " 3   product_quantity  93349 non-null  int64  \n",
      " 4   sku               93349 non-null  object \n",
      " 5   unit_price        93349 non-null  float64\n",
      " 6   date              93349 non-null  object \n",
      "dtypes: float64(1), int64(4), object(2)\n",
      "memory usage: 5.7+ MB\n"
     ]
    }
   ],
   "source": [
    "orderlines_qu.info()"
   ]
  },
  {
   "cell_type": "code",
   "execution_count": null,
   "metadata": {
    "colab": {
     "base_uri": "https://localhost:8080/"
    },
    "executionInfo": {
     "elapsed": 21,
     "status": "ok",
     "timestamp": 1703333506533,
     "user": {
      "displayName": "Hanne Pruefer",
      "userId": "00023317629764901987"
     },
     "user_tz": -60
    },
    "id": "kP_CZ6JcmihA",
    "outputId": "f697180e-532b-45fd-d897-546fb4c368a4"
   },
   "outputs": [
    {
     "data": {
      "text/plain": [
       "(73221, 73221)"
      ]
     },
     "execution_count": 24,
     "metadata": {},
     "output_type": "execute_result"
    }
   ],
   "source": [
    "len(list(orders_qu[\"order_id\"].unique())), len(list(orderlines_qu[\"order_id\"].unique()))"
   ]
  },
  {
   "cell_type": "code",
   "execution_count": null,
   "metadata": {
    "id": "iHX9jYx8yXN6"
   },
   "outputs": [],
   "source": [
    "# last step backwards - to products table\n",
    "sku_ordered = orderlines_qu.sku.unique()"
   ]
  },
  {
   "cell_type": "code",
   "execution_count": null,
   "metadata": {
    "id": "f6ChBKh0yn_U"
   },
   "outputs": [],
   "source": [
    "products_qu = products_cl.loc[products_cl.sku.isin(sku_ordered),:].copy()"
   ]
  },
  {
   "cell_type": "markdown",
   "metadata": {
    "id": "tfaLgmtHiu9h"
   },
   "source": [
    "## 3a.&nbsp; MERGING the qualified Dataframes\n"
   ]
  },
  {
   "cell_type": "code",
   "execution_count": null,
   "metadata": {
    "id": "EkNqtrfdJGAW"
   },
   "outputs": [],
   "source": [
    "#orderlines merging with orders only inner join\n",
    "all_orders_qu = orderlines_qu.merge(orders_qu,how = \"inner\", left_on=\"order_id\", right_on=\"order_id\" )"
   ]
  },
  {
   "cell_type": "code",
   "execution_count": null,
   "metadata": {
    "id": "y6yHCQk6x7YR"
   },
   "outputs": [],
   "source": [
    "#merging new df with products on sku inner join\n",
    "all_orders_qu = all_orders_qu.merge(products_qu, how=\"inner\", left_on=\"sku\", right_on=\"sku\")"
   ]
  },
  {
   "cell_type": "code",
   "execution_count": null,
   "metadata": {
    "id": "ZWn5F7qRrJmx"
   },
   "outputs": [],
   "source": [
    "all_orders_qu = all_orders_qu.drop(columns=\"product_id\", axis = 1)"
   ]
  },
  {
   "cell_type": "code",
   "execution_count": null,
   "metadata": {
    "colab": {
     "base_uri": "https://localhost:8080/"
    },
    "executionInfo": {
     "elapsed": 11,
     "status": "ok",
     "timestamp": 1703333507363,
     "user": {
      "displayName": "Hanne Pruefer",
      "userId": "00023317629764901987"
     },
     "user_tz": -60
    },
    "id": "ZMzVsOJ64CRM",
    "outputId": "b4dc744b-b16f-4241-cf08-513f523515d9"
   },
   "outputs": [
    {
     "name": "stdout",
     "output_type": "stream",
     "text": [
      "<class 'pandas.core.frame.DataFrame'>\n",
      "Int64Index: 93349 entries, 0 to 93348\n",
      "Data columns (total 14 columns):\n",
      " #   Column            Non-Null Count  Dtype  \n",
      "---  ------            --------------  -----  \n",
      " 0   id                93349 non-null  int64  \n",
      " 1   order_id          93349 non-null  int64  \n",
      " 2   product_quantity  93349 non-null  int64  \n",
      " 3   sku               93349 non-null  object \n",
      " 4   unit_price        93349 non-null  float64\n",
      " 5   date              93349 non-null  object \n",
      " 6   created_date      93349 non-null  object \n",
      " 7   total_paid        93349 non-null  float64\n",
      " 8   state             93349 non-null  object \n",
      " 9   name              93349 non-null  object \n",
      " 10  desc              93349 non-null  object \n",
      " 11  price             93349 non-null  float64\n",
      " 12  promo_price       93349 non-null  object \n",
      " 13  type              93349 non-null  object \n",
      "dtypes: float64(3), int64(3), object(8)\n",
      "memory usage: 10.7+ MB\n"
     ]
    }
   ],
   "source": [
    "all_orders_qu.info()"
   ]
  },
  {
   "cell_type": "markdown",
   "metadata": {
    "id": "bCLu78B07gN1"
   },
   "source": [
    "## 4.&nbsp; Comparison of the revenue from different tables\n",
    "the Revenue of all items in one order should match roughly with the total price paid"
   ]
  },
  {
   "cell_type": "code",
   "execution_count": null,
   "metadata": {
    "id": "c8MApY6jatlO"
   },
   "outputs": [],
   "source": [
    "# create a unit price total for each order_id\n",
    "all_orders_qu[\"unit_price_total\"] = all_orders_qu.unit_price * all_orders_qu.product_quantity"
   ]
  },
  {
   "cell_type": "code",
   "execution_count": null,
   "metadata": {
    "id": "4hasZA5BaH1k"
   },
   "outputs": [],
   "source": [
    "# price per order_id - with groupby\n",
    "price_p_order = all_orders_qu.groupby(\"order_id\", as_index=False).agg({\"unit_price_total\":\"sum\"})"
   ]
  },
  {
   "cell_type": "code",
   "execution_count": null,
   "metadata": {
    "colab": {
     "base_uri": "https://localhost:8080/",
     "height": 206
    },
    "executionInfo": {
     "elapsed": 29,
     "status": "ok",
     "timestamp": 1703333507761,
     "user": {
      "displayName": "Hanne Pruefer",
      "userId": "00023317629764901987"
     },
     "user_tz": -60
    },
    "id": "H4ICAo4noyKd",
    "outputId": "9c6e7c45-49fe-4408-ee92-2c46b4581336"
   },
   "outputs": [
    {
     "data": {
      "text/html": [
       "\n",
       "  <div id=\"df-8eabaf27-40a4-4d7a-9edd-751125f77e85\" class=\"colab-df-container\">\n",
       "    <div>\n",
       "<style scoped>\n",
       "    .dataframe tbody tr th:only-of-type {\n",
       "        vertical-align: middle;\n",
       "    }\n",
       "\n",
       "    .dataframe tbody tr th {\n",
       "        vertical-align: top;\n",
       "    }\n",
       "\n",
       "    .dataframe thead th {\n",
       "        text-align: right;\n",
       "    }\n",
       "</style>\n",
       "<table border=\"1\" class=\"dataframe\">\n",
       "  <thead>\n",
       "    <tr style=\"text-align: right;\">\n",
       "      <th></th>\n",
       "      <th>order_id</th>\n",
       "      <th>unit_price_total</th>\n",
       "    </tr>\n",
       "  </thead>\n",
       "  <tbody>\n",
       "    <tr>\n",
       "      <th>0</th>\n",
       "      <td>241423</td>\n",
       "      <td>129.16</td>\n",
       "    </tr>\n",
       "    <tr>\n",
       "      <th>1</th>\n",
       "      <td>242832</td>\n",
       "      <td>10.77</td>\n",
       "    </tr>\n",
       "    <tr>\n",
       "      <th>2</th>\n",
       "      <td>243330</td>\n",
       "      <td>77.99</td>\n",
       "    </tr>\n",
       "    <tr>\n",
       "      <th>3</th>\n",
       "      <td>245275</td>\n",
       "      <td>149.00</td>\n",
       "    </tr>\n",
       "    <tr>\n",
       "      <th>4</th>\n",
       "      <td>245595</td>\n",
       "      <td>105.98</td>\n",
       "    </tr>\n",
       "  </tbody>\n",
       "</table>\n",
       "</div>\n",
       "    <div class=\"colab-df-buttons\">\n",
       "\n",
       "  <div class=\"colab-df-container\">\n",
       "    <button class=\"colab-df-convert\" onclick=\"convertToInteractive('df-8eabaf27-40a4-4d7a-9edd-751125f77e85')\"\n",
       "            title=\"Convert this dataframe to an interactive table.\"\n",
       "            style=\"display:none;\">\n",
       "\n",
       "  <svg xmlns=\"http://www.w3.org/2000/svg\" height=\"24px\" viewBox=\"0 -960 960 960\">\n",
       "    <path d=\"M120-120v-720h720v720H120Zm60-500h600v-160H180v160Zm220 220h160v-160H400v160Zm0 220h160v-160H400v160ZM180-400h160v-160H180v160Zm440 0h160v-160H620v160ZM180-180h160v-160H180v160Zm440 0h160v-160H620v160Z\"/>\n",
       "  </svg>\n",
       "    </button>\n",
       "\n",
       "  <style>\n",
       "    .colab-df-container {\n",
       "      display:flex;\n",
       "      gap: 12px;\n",
       "    }\n",
       "\n",
       "    .colab-df-convert {\n",
       "      background-color: #E8F0FE;\n",
       "      border: none;\n",
       "      border-radius: 50%;\n",
       "      cursor: pointer;\n",
       "      display: none;\n",
       "      fill: #1967D2;\n",
       "      height: 32px;\n",
       "      padding: 0 0 0 0;\n",
       "      width: 32px;\n",
       "    }\n",
       "\n",
       "    .colab-df-convert:hover {\n",
       "      background-color: #E2EBFA;\n",
       "      box-shadow: 0px 1px 2px rgba(60, 64, 67, 0.3), 0px 1px 3px 1px rgba(60, 64, 67, 0.15);\n",
       "      fill: #174EA6;\n",
       "    }\n",
       "\n",
       "    .colab-df-buttons div {\n",
       "      margin-bottom: 4px;\n",
       "    }\n",
       "\n",
       "    [theme=dark] .colab-df-convert {\n",
       "      background-color: #3B4455;\n",
       "      fill: #D2E3FC;\n",
       "    }\n",
       "\n",
       "    [theme=dark] .colab-df-convert:hover {\n",
       "      background-color: #434B5C;\n",
       "      box-shadow: 0px 1px 3px 1px rgba(0, 0, 0, 0.15);\n",
       "      filter: drop-shadow(0px 1px 2px rgba(0, 0, 0, 0.3));\n",
       "      fill: #FFFFFF;\n",
       "    }\n",
       "  </style>\n",
       "\n",
       "    <script>\n",
       "      const buttonEl =\n",
       "        document.querySelector('#df-8eabaf27-40a4-4d7a-9edd-751125f77e85 button.colab-df-convert');\n",
       "      buttonEl.style.display =\n",
       "        google.colab.kernel.accessAllowed ? 'block' : 'none';\n",
       "\n",
       "      async function convertToInteractive(key) {\n",
       "        const element = document.querySelector('#df-8eabaf27-40a4-4d7a-9edd-751125f77e85');\n",
       "        const dataTable =\n",
       "          await google.colab.kernel.invokeFunction('convertToInteractive',\n",
       "                                                    [key], {});\n",
       "        if (!dataTable) return;\n",
       "\n",
       "        const docLinkHtml = 'Like what you see? Visit the ' +\n",
       "          '<a target=\"_blank\" href=https://colab.research.google.com/notebooks/data_table.ipynb>data table notebook</a>'\n",
       "          + ' to learn more about interactive tables.';\n",
       "        element.innerHTML = '';\n",
       "        dataTable['output_type'] = 'display_data';\n",
       "        await google.colab.output.renderOutput(dataTable, element);\n",
       "        const docLink = document.createElement('div');\n",
       "        docLink.innerHTML = docLinkHtml;\n",
       "        element.appendChild(docLink);\n",
       "      }\n",
       "    </script>\n",
       "  </div>\n",
       "\n",
       "\n",
       "<div id=\"df-581fa68e-a55d-4202-8d7b-6261ca0666e9\">\n",
       "  <button class=\"colab-df-quickchart\" onclick=\"quickchart('df-581fa68e-a55d-4202-8d7b-6261ca0666e9')\"\n",
       "            title=\"Suggest charts\"\n",
       "            style=\"display:none;\">\n",
       "\n",
       "<svg xmlns=\"http://www.w3.org/2000/svg\" height=\"24px\"viewBox=\"0 0 24 24\"\n",
       "     width=\"24px\">\n",
       "    <g>\n",
       "        <path d=\"M19 3H5c-1.1 0-2 .9-2 2v14c0 1.1.9 2 2 2h14c1.1 0 2-.9 2-2V5c0-1.1-.9-2-2-2zM9 17H7v-7h2v7zm4 0h-2V7h2v10zm4 0h-2v-4h2v4z\"/>\n",
       "    </g>\n",
       "</svg>\n",
       "  </button>\n",
       "\n",
       "<style>\n",
       "  .colab-df-quickchart {\n",
       "      --bg-color: #E8F0FE;\n",
       "      --fill-color: #1967D2;\n",
       "      --hover-bg-color: #E2EBFA;\n",
       "      --hover-fill-color: #174EA6;\n",
       "      --disabled-fill-color: #AAA;\n",
       "      --disabled-bg-color: #DDD;\n",
       "  }\n",
       "\n",
       "  [theme=dark] .colab-df-quickchart {\n",
       "      --bg-color: #3B4455;\n",
       "      --fill-color: #D2E3FC;\n",
       "      --hover-bg-color: #434B5C;\n",
       "      --hover-fill-color: #FFFFFF;\n",
       "      --disabled-bg-color: #3B4455;\n",
       "      --disabled-fill-color: #666;\n",
       "  }\n",
       "\n",
       "  .colab-df-quickchart {\n",
       "    background-color: var(--bg-color);\n",
       "    border: none;\n",
       "    border-radius: 50%;\n",
       "    cursor: pointer;\n",
       "    display: none;\n",
       "    fill: var(--fill-color);\n",
       "    height: 32px;\n",
       "    padding: 0;\n",
       "    width: 32px;\n",
       "  }\n",
       "\n",
       "  .colab-df-quickchart:hover {\n",
       "    background-color: var(--hover-bg-color);\n",
       "    box-shadow: 0 1px 2px rgba(60, 64, 67, 0.3), 0 1px 3px 1px rgba(60, 64, 67, 0.15);\n",
       "    fill: var(--button-hover-fill-color);\n",
       "  }\n",
       "\n",
       "  .colab-df-quickchart-complete:disabled,\n",
       "  .colab-df-quickchart-complete:disabled:hover {\n",
       "    background-color: var(--disabled-bg-color);\n",
       "    fill: var(--disabled-fill-color);\n",
       "    box-shadow: none;\n",
       "  }\n",
       "\n",
       "  .colab-df-spinner {\n",
       "    border: 2px solid var(--fill-color);\n",
       "    border-color: transparent;\n",
       "    border-bottom-color: var(--fill-color);\n",
       "    animation:\n",
       "      spin 1s steps(1) infinite;\n",
       "  }\n",
       "\n",
       "  @keyframes spin {\n",
       "    0% {\n",
       "      border-color: transparent;\n",
       "      border-bottom-color: var(--fill-color);\n",
       "      border-left-color: var(--fill-color);\n",
       "    }\n",
       "    20% {\n",
       "      border-color: transparent;\n",
       "      border-left-color: var(--fill-color);\n",
       "      border-top-color: var(--fill-color);\n",
       "    }\n",
       "    30% {\n",
       "      border-color: transparent;\n",
       "      border-left-color: var(--fill-color);\n",
       "      border-top-color: var(--fill-color);\n",
       "      border-right-color: var(--fill-color);\n",
       "    }\n",
       "    40% {\n",
       "      border-color: transparent;\n",
       "      border-right-color: var(--fill-color);\n",
       "      border-top-color: var(--fill-color);\n",
       "    }\n",
       "    60% {\n",
       "      border-color: transparent;\n",
       "      border-right-color: var(--fill-color);\n",
       "    }\n",
       "    80% {\n",
       "      border-color: transparent;\n",
       "      border-right-color: var(--fill-color);\n",
       "      border-bottom-color: var(--fill-color);\n",
       "    }\n",
       "    90% {\n",
       "      border-color: transparent;\n",
       "      border-bottom-color: var(--fill-color);\n",
       "    }\n",
       "  }\n",
       "</style>\n",
       "\n",
       "  <script>\n",
       "    async function quickchart(key) {\n",
       "      const quickchartButtonEl =\n",
       "        document.querySelector('#' + key + ' button');\n",
       "      quickchartButtonEl.disabled = true;  // To prevent multiple clicks.\n",
       "      quickchartButtonEl.classList.add('colab-df-spinner');\n",
       "      try {\n",
       "        const charts = await google.colab.kernel.invokeFunction(\n",
       "            'suggestCharts', [key], {});\n",
       "      } catch (error) {\n",
       "        console.error('Error during call to suggestCharts:', error);\n",
       "      }\n",
       "      quickchartButtonEl.classList.remove('colab-df-spinner');\n",
       "      quickchartButtonEl.classList.add('colab-df-quickchart-complete');\n",
       "    }\n",
       "    (() => {\n",
       "      let quickchartButtonEl =\n",
       "        document.querySelector('#df-581fa68e-a55d-4202-8d7b-6261ca0666e9 button');\n",
       "      quickchartButtonEl.style.display =\n",
       "        google.colab.kernel.accessAllowed ? 'block' : 'none';\n",
       "    })();\n",
       "  </script>\n",
       "</div>\n",
       "    </div>\n",
       "  </div>\n"
      ],
      "text/plain": [
       "   order_id  unit_price_total\n",
       "0    241423            129.16\n",
       "1    242832             10.77\n",
       "2    243330             77.99\n",
       "3    245275            149.00\n",
       "4    245595            105.98"
      ]
     },
     "execution_count": 33,
     "metadata": {},
     "output_type": "execute_result"
    }
   ],
   "source": [
    "price_p_order.head()"
   ]
  },
  {
   "cell_type": "code",
   "execution_count": null,
   "metadata": {
    "id": "5N02JPCMgyBU"
   },
   "outputs": [],
   "source": [
    "#create a second Grouped DF with the total_paid items\n",
    "total_paid = all_orders_qu.groupby(\"order_id\", as_index=False).agg(item_count =(\"unit_price\",\"count\"),sum_paid=(\"total_paid\",\"sum\"))"
   ]
  },
  {
   "cell_type": "code",
   "execution_count": null,
   "metadata": {
    "id": "PAqlt6KenRuV"
   },
   "outputs": [],
   "source": [
    "# Divide the sum of the total paid by amoutn of items - as it is total in every orderline\n",
    "total_paid[\"paid_per_order\"] = (total_paid.sum_paid / total_paid.item_count).round(2)"
   ]
  },
  {
   "cell_type": "code",
   "execution_count": null,
   "metadata": {
    "id": "ROMZPJflogAz"
   },
   "outputs": [],
   "source": [
    "#Merge the results\n",
    "price_comp = price_p_order.merge(total_paid)"
   ]
  },
  {
   "cell_type": "code",
   "execution_count": null,
   "metadata": {
    "id": "vg3fvlJxq1sL"
   },
   "outputs": [],
   "source": [
    "#Drop the sum paid column was just a temporary step to calculate tp per order\n",
    "price_comp= price_comp.drop(\"sum_paid\",axis = 1)"
   ]
  },
  {
   "cell_type": "code",
   "execution_count": null,
   "metadata": {
    "id": "SIh1iDMrrWYb"
   },
   "outputs": [],
   "source": [
    "# New column with price differences\n",
    "price_comp[\"differences\"] = (price_comp.paid_per_order - price_comp.unit_price_total).round(2)"
   ]
  },
  {
   "cell_type": "code",
   "execution_count": null,
   "metadata": {
    "colab": {
     "base_uri": "https://localhost:8080/",
     "height": 300
    },
    "executionInfo": {
     "elapsed": 678,
     "status": "ok",
     "timestamp": 1703333508424,
     "user": {
      "displayName": "Hanne Pruefer",
      "userId": "00023317629764901987"
     },
     "user_tz": -60
    },
    "id": "D1IPa0yLtZKD",
    "outputId": "d80b7b4b-f1fe-4f3a-88b3-449da778139c"
   },
   "outputs": [
    {
     "data": {
      "text/html": [
       "\n",
       "  <div id=\"df-e15c6c2c-da3f-4b99-a04c-918484831c05\" class=\"colab-df-container\">\n",
       "    <div>\n",
       "<style scoped>\n",
       "    .dataframe tbody tr th:only-of-type {\n",
       "        vertical-align: middle;\n",
       "    }\n",
       "\n",
       "    .dataframe tbody tr th {\n",
       "        vertical-align: top;\n",
       "    }\n",
       "\n",
       "    .dataframe thead th {\n",
       "        text-align: right;\n",
       "    }\n",
       "</style>\n",
       "<table border=\"1\" class=\"dataframe\">\n",
       "  <thead>\n",
       "    <tr style=\"text-align: right;\">\n",
       "      <th></th>\n",
       "      <th>order_id</th>\n",
       "      <th>unit_price_total</th>\n",
       "      <th>item_count</th>\n",
       "      <th>paid_per_order</th>\n",
       "      <th>differences</th>\n",
       "    </tr>\n",
       "  </thead>\n",
       "  <tbody>\n",
       "    <tr>\n",
       "      <th>count</th>\n",
       "      <td>73221.00</td>\n",
       "      <td>73221.00</td>\n",
       "      <td>73221.00</td>\n",
       "      <td>73221.00</td>\n",
       "      <td>73221.00</td>\n",
       "    </tr>\n",
       "    <tr>\n",
       "      <th>mean</th>\n",
       "      <td>412520.93</td>\n",
       "      <td>427.05</td>\n",
       "      <td>1.27</td>\n",
       "      <td>430.43</td>\n",
       "      <td>3.38</td>\n",
       "    </tr>\n",
       "    <tr>\n",
       "      <th>std</th>\n",
       "      <td>65551.55</td>\n",
       "      <td>771.78</td>\n",
       "      <td>0.71</td>\n",
       "      <td>771.31</td>\n",
       "      <td>19.89</td>\n",
       "    </tr>\n",
       "    <tr>\n",
       "      <th>min</th>\n",
       "      <td>241423.00</td>\n",
       "      <td>2.49</td>\n",
       "      <td>1.00</td>\n",
       "      <td>0.00</td>\n",
       "      <td>-165.00</td>\n",
       "    </tr>\n",
       "    <tr>\n",
       "      <th>25%</th>\n",
       "      <td>358260.00</td>\n",
       "      <td>49.96</td>\n",
       "      <td>1.00</td>\n",
       "      <td>51.98</td>\n",
       "      <td>0.00</td>\n",
       "    </tr>\n",
       "    <tr>\n",
       "      <th>50%</th>\n",
       "      <td>413943.00</td>\n",
       "      <td>125.99</td>\n",
       "      <td>1.00</td>\n",
       "      <td>129.99</td>\n",
       "      <td>3.99</td>\n",
       "    </tr>\n",
       "    <tr>\n",
       "      <th>75%</th>\n",
       "      <td>468608.00</td>\n",
       "      <td>411.99</td>\n",
       "      <td>1.00</td>\n",
       "      <td>413.99</td>\n",
       "      <td>4.99</td>\n",
       "    </tr>\n",
       "    <tr>\n",
       "      <th>max</th>\n",
       "      <td>527401.00</td>\n",
       "      <td>17910.34</td>\n",
       "      <td>25.00</td>\n",
       "      <td>17910.37</td>\n",
       "      <td>3984.99</td>\n",
       "    </tr>\n",
       "  </tbody>\n",
       "</table>\n",
       "</div>\n",
       "    <div class=\"colab-df-buttons\">\n",
       "\n",
       "  <div class=\"colab-df-container\">\n",
       "    <button class=\"colab-df-convert\" onclick=\"convertToInteractive('df-e15c6c2c-da3f-4b99-a04c-918484831c05')\"\n",
       "            title=\"Convert this dataframe to an interactive table.\"\n",
       "            style=\"display:none;\">\n",
       "\n",
       "  <svg xmlns=\"http://www.w3.org/2000/svg\" height=\"24px\" viewBox=\"0 -960 960 960\">\n",
       "    <path d=\"M120-120v-720h720v720H120Zm60-500h600v-160H180v160Zm220 220h160v-160H400v160Zm0 220h160v-160H400v160ZM180-400h160v-160H180v160Zm440 0h160v-160H620v160ZM180-180h160v-160H180v160Zm440 0h160v-160H620v160Z\"/>\n",
       "  </svg>\n",
       "    </button>\n",
       "\n",
       "  <style>\n",
       "    .colab-df-container {\n",
       "      display:flex;\n",
       "      gap: 12px;\n",
       "    }\n",
       "\n",
       "    .colab-df-convert {\n",
       "      background-color: #E8F0FE;\n",
       "      border: none;\n",
       "      border-radius: 50%;\n",
       "      cursor: pointer;\n",
       "      display: none;\n",
       "      fill: #1967D2;\n",
       "      height: 32px;\n",
       "      padding: 0 0 0 0;\n",
       "      width: 32px;\n",
       "    }\n",
       "\n",
       "    .colab-df-convert:hover {\n",
       "      background-color: #E2EBFA;\n",
       "      box-shadow: 0px 1px 2px rgba(60, 64, 67, 0.3), 0px 1px 3px 1px rgba(60, 64, 67, 0.15);\n",
       "      fill: #174EA6;\n",
       "    }\n",
       "\n",
       "    .colab-df-buttons div {\n",
       "      margin-bottom: 4px;\n",
       "    }\n",
       "\n",
       "    [theme=dark] .colab-df-convert {\n",
       "      background-color: #3B4455;\n",
       "      fill: #D2E3FC;\n",
       "    }\n",
       "\n",
       "    [theme=dark] .colab-df-convert:hover {\n",
       "      background-color: #434B5C;\n",
       "      box-shadow: 0px 1px 3px 1px rgba(0, 0, 0, 0.15);\n",
       "      filter: drop-shadow(0px 1px 2px rgba(0, 0, 0, 0.3));\n",
       "      fill: #FFFFFF;\n",
       "    }\n",
       "  </style>\n",
       "\n",
       "    <script>\n",
       "      const buttonEl =\n",
       "        document.querySelector('#df-e15c6c2c-da3f-4b99-a04c-918484831c05 button.colab-df-convert');\n",
       "      buttonEl.style.display =\n",
       "        google.colab.kernel.accessAllowed ? 'block' : 'none';\n",
       "\n",
       "      async function convertToInteractive(key) {\n",
       "        const element = document.querySelector('#df-e15c6c2c-da3f-4b99-a04c-918484831c05');\n",
       "        const dataTable =\n",
       "          await google.colab.kernel.invokeFunction('convertToInteractive',\n",
       "                                                    [key], {});\n",
       "        if (!dataTable) return;\n",
       "\n",
       "        const docLinkHtml = 'Like what you see? Visit the ' +\n",
       "          '<a target=\"_blank\" href=https://colab.research.google.com/notebooks/data_table.ipynb>data table notebook</a>'\n",
       "          + ' to learn more about interactive tables.';\n",
       "        element.innerHTML = '';\n",
       "        dataTable['output_type'] = 'display_data';\n",
       "        await google.colab.output.renderOutput(dataTable, element);\n",
       "        const docLink = document.createElement('div');\n",
       "        docLink.innerHTML = docLinkHtml;\n",
       "        element.appendChild(docLink);\n",
       "      }\n",
       "    </script>\n",
       "  </div>\n",
       "\n",
       "\n",
       "<div id=\"df-651989c8-c750-4c2e-b1b8-9facd66c7545\">\n",
       "  <button class=\"colab-df-quickchart\" onclick=\"quickchart('df-651989c8-c750-4c2e-b1b8-9facd66c7545')\"\n",
       "            title=\"Suggest charts\"\n",
       "            style=\"display:none;\">\n",
       "\n",
       "<svg xmlns=\"http://www.w3.org/2000/svg\" height=\"24px\"viewBox=\"0 0 24 24\"\n",
       "     width=\"24px\">\n",
       "    <g>\n",
       "        <path d=\"M19 3H5c-1.1 0-2 .9-2 2v14c0 1.1.9 2 2 2h14c1.1 0 2-.9 2-2V5c0-1.1-.9-2-2-2zM9 17H7v-7h2v7zm4 0h-2V7h2v10zm4 0h-2v-4h2v4z\"/>\n",
       "    </g>\n",
       "</svg>\n",
       "  </button>\n",
       "\n",
       "<style>\n",
       "  .colab-df-quickchart {\n",
       "      --bg-color: #E8F0FE;\n",
       "      --fill-color: #1967D2;\n",
       "      --hover-bg-color: #E2EBFA;\n",
       "      --hover-fill-color: #174EA6;\n",
       "      --disabled-fill-color: #AAA;\n",
       "      --disabled-bg-color: #DDD;\n",
       "  }\n",
       "\n",
       "  [theme=dark] .colab-df-quickchart {\n",
       "      --bg-color: #3B4455;\n",
       "      --fill-color: #D2E3FC;\n",
       "      --hover-bg-color: #434B5C;\n",
       "      --hover-fill-color: #FFFFFF;\n",
       "      --disabled-bg-color: #3B4455;\n",
       "      --disabled-fill-color: #666;\n",
       "  }\n",
       "\n",
       "  .colab-df-quickchart {\n",
       "    background-color: var(--bg-color);\n",
       "    border: none;\n",
       "    border-radius: 50%;\n",
       "    cursor: pointer;\n",
       "    display: none;\n",
       "    fill: var(--fill-color);\n",
       "    height: 32px;\n",
       "    padding: 0;\n",
       "    width: 32px;\n",
       "  }\n",
       "\n",
       "  .colab-df-quickchart:hover {\n",
       "    background-color: var(--hover-bg-color);\n",
       "    box-shadow: 0 1px 2px rgba(60, 64, 67, 0.3), 0 1px 3px 1px rgba(60, 64, 67, 0.15);\n",
       "    fill: var(--button-hover-fill-color);\n",
       "  }\n",
       "\n",
       "  .colab-df-quickchart-complete:disabled,\n",
       "  .colab-df-quickchart-complete:disabled:hover {\n",
       "    background-color: var(--disabled-bg-color);\n",
       "    fill: var(--disabled-fill-color);\n",
       "    box-shadow: none;\n",
       "  }\n",
       "\n",
       "  .colab-df-spinner {\n",
       "    border: 2px solid var(--fill-color);\n",
       "    border-color: transparent;\n",
       "    border-bottom-color: var(--fill-color);\n",
       "    animation:\n",
       "      spin 1s steps(1) infinite;\n",
       "  }\n",
       "\n",
       "  @keyframes spin {\n",
       "    0% {\n",
       "      border-color: transparent;\n",
       "      border-bottom-color: var(--fill-color);\n",
       "      border-left-color: var(--fill-color);\n",
       "    }\n",
       "    20% {\n",
       "      border-color: transparent;\n",
       "      border-left-color: var(--fill-color);\n",
       "      border-top-color: var(--fill-color);\n",
       "    }\n",
       "    30% {\n",
       "      border-color: transparent;\n",
       "      border-left-color: var(--fill-color);\n",
       "      border-top-color: var(--fill-color);\n",
       "      border-right-color: var(--fill-color);\n",
       "    }\n",
       "    40% {\n",
       "      border-color: transparent;\n",
       "      border-right-color: var(--fill-color);\n",
       "      border-top-color: var(--fill-color);\n",
       "    }\n",
       "    60% {\n",
       "      border-color: transparent;\n",
       "      border-right-color: var(--fill-color);\n",
       "    }\n",
       "    80% {\n",
       "      border-color: transparent;\n",
       "      border-right-color: var(--fill-color);\n",
       "      border-bottom-color: var(--fill-color);\n",
       "    }\n",
       "    90% {\n",
       "      border-color: transparent;\n",
       "      border-bottom-color: var(--fill-color);\n",
       "    }\n",
       "  }\n",
       "</style>\n",
       "\n",
       "  <script>\n",
       "    async function quickchart(key) {\n",
       "      const quickchartButtonEl =\n",
       "        document.querySelector('#' + key + ' button');\n",
       "      quickchartButtonEl.disabled = true;  // To prevent multiple clicks.\n",
       "      quickchartButtonEl.classList.add('colab-df-spinner');\n",
       "      try {\n",
       "        const charts = await google.colab.kernel.invokeFunction(\n",
       "            'suggestCharts', [key], {});\n",
       "      } catch (error) {\n",
       "        console.error('Error during call to suggestCharts:', error);\n",
       "      }\n",
       "      quickchartButtonEl.classList.remove('colab-df-spinner');\n",
       "      quickchartButtonEl.classList.add('colab-df-quickchart-complete');\n",
       "    }\n",
       "    (() => {\n",
       "      let quickchartButtonEl =\n",
       "        document.querySelector('#df-651989c8-c750-4c2e-b1b8-9facd66c7545 button');\n",
       "      quickchartButtonEl.style.display =\n",
       "        google.colab.kernel.accessAllowed ? 'block' : 'none';\n",
       "    })();\n",
       "  </script>\n",
       "</div>\n",
       "    </div>\n",
       "  </div>\n"
      ],
      "text/plain": [
       "       order_id  unit_price_total  item_count  paid_per_order  differences\n",
       "count  73221.00          73221.00    73221.00        73221.00     73221.00\n",
       "mean  412520.93            427.05        1.27          430.43         3.38\n",
       "std    65551.55            771.78        0.71          771.31        19.89\n",
       "min   241423.00              2.49        1.00            0.00      -165.00\n",
       "25%   358260.00             49.96        1.00           51.98         0.00\n",
       "50%   413943.00            125.99        1.00          129.99         3.99\n",
       "75%   468608.00            411.99        1.00          413.99         4.99\n",
       "max   527401.00          17910.34       25.00        17910.37      3984.99"
      ]
     },
     "execution_count": 39,
     "metadata": {},
     "output_type": "execute_result"
    }
   ],
   "source": [
    "price_comp.describe()\n",
    "# Most of the results between 1.99 and 4.99 --> Delivery prices"
   ]
  },
  {
   "cell_type": "code",
   "execution_count": null,
   "metadata": {
    "id": "ODMxvPxF3BCT"
   },
   "outputs": [],
   "source": [
    "# Exclude the Outliers via Quartile calculation\n",
    "Q3= price_comp.differences.quantile(0.75)\n",
    "Q1 = price_comp.differences.quantile(0.25)\n",
    "IQR = Q3-Q1\n",
    "outlier_plus = round((Q3 + 1.5*IQR),1)"
   ]
  },
  {
   "cell_type": "code",
   "execution_count": null,
   "metadata": {
    "colab": {
     "base_uri": "https://localhost:8080/"
    },
    "executionInfo": {
     "elapsed": 30,
     "status": "ok",
     "timestamp": 1703333508426,
     "user": {
      "displayName": "Hanne Pruefer",
      "userId": "00023317629764901987"
     },
     "user_tz": -60
    },
    "id": "B5rKsnLS-x2_",
    "outputId": "cf81626f-2cda-4384-cabd-bfc04d3bb56c"
   },
   "outputs": [
    {
     "data": {
      "text/plain": [
       "12.5"
      ]
     },
     "execution_count": 41,
     "metadata": {},
     "output_type": "execute_result"
    }
   ],
   "source": [
    "outlier_plus"
   ]
  },
  {
   "cell_type": "code",
   "execution_count": null,
   "metadata": {
    "id": "CH0-CFgMCSlw"
   },
   "outputs": [],
   "source": [
    "# Keep only data between 0 and + 12 Euro in the difference\n",
    "price_comp_qu = price_comp.loc[((price_comp.differences > -0.01)&(price_comp.differences < outlier_plus)),: ].copy()"
   ]
  },
  {
   "cell_type": "code",
   "execution_count": null,
   "metadata": {
    "colab": {
     "base_uri": "https://localhost:8080/",
     "height": 300
    },
    "executionInfo": {
     "elapsed": 23,
     "status": "ok",
     "timestamp": 1703333508427,
     "user": {
      "displayName": "Hanne Pruefer",
      "userId": "00023317629764901987"
     },
     "user_tz": -60
    },
    "id": "Ep6nZUO4iZ5I",
    "outputId": "b51a4c41-95ca-414d-83cc-a11939e0ce87"
   },
   "outputs": [
    {
     "data": {
      "text/html": [
       "\n",
       "  <div id=\"df-19b26ccb-a0a7-40b7-86c7-0a00c2ebe136\" class=\"colab-df-container\">\n",
       "    <div>\n",
       "<style scoped>\n",
       "    .dataframe tbody tr th:only-of-type {\n",
       "        vertical-align: middle;\n",
       "    }\n",
       "\n",
       "    .dataframe tbody tr th {\n",
       "        vertical-align: top;\n",
       "    }\n",
       "\n",
       "    .dataframe thead th {\n",
       "        text-align: right;\n",
       "    }\n",
       "</style>\n",
       "<table border=\"1\" class=\"dataframe\">\n",
       "  <thead>\n",
       "    <tr style=\"text-align: right;\">\n",
       "      <th></th>\n",
       "      <th>order_id</th>\n",
       "      <th>unit_price_total</th>\n",
       "      <th>item_count</th>\n",
       "      <th>paid_per_order</th>\n",
       "      <th>differences</th>\n",
       "    </tr>\n",
       "  </thead>\n",
       "  <tbody>\n",
       "    <tr>\n",
       "      <th>count</th>\n",
       "      <td>71225.00</td>\n",
       "      <td>71225.00</td>\n",
       "      <td>71225.00</td>\n",
       "      <td>71225.00</td>\n",
       "      <td>71225.00</td>\n",
       "    </tr>\n",
       "    <tr>\n",
       "      <th>mean</th>\n",
       "      <td>412553.85</td>\n",
       "      <td>427.24</td>\n",
       "      <td>1.27</td>\n",
       "      <td>430.19</td>\n",
       "      <td>2.95</td>\n",
       "    </tr>\n",
       "    <tr>\n",
       "      <th>std</th>\n",
       "      <td>65399.23</td>\n",
       "      <td>771.07</td>\n",
       "      <td>0.70</td>\n",
       "      <td>770.37</td>\n",
       "      <td>3.00</td>\n",
       "    </tr>\n",
       "    <tr>\n",
       "      <th>min</th>\n",
       "      <td>241423.00</td>\n",
       "      <td>2.49</td>\n",
       "      <td>1.00</td>\n",
       "      <td>2.49</td>\n",
       "      <td>0.00</td>\n",
       "    </tr>\n",
       "    <tr>\n",
       "      <th>25%</th>\n",
       "      <td>358371.00</td>\n",
       "      <td>48.98</td>\n",
       "      <td>1.00</td>\n",
       "      <td>50.98</td>\n",
       "      <td>0.00</td>\n",
       "    </tr>\n",
       "    <tr>\n",
       "      <th>50%</th>\n",
       "      <td>413908.00</td>\n",
       "      <td>124.98</td>\n",
       "      <td>1.00</td>\n",
       "      <td>128.89</td>\n",
       "      <td>3.99</td>\n",
       "    </tr>\n",
       "    <tr>\n",
       "      <th>75%</th>\n",
       "      <td>468430.00</td>\n",
       "      <td>409.00</td>\n",
       "      <td>1.00</td>\n",
       "      <td>409.39</td>\n",
       "      <td>4.99</td>\n",
       "    </tr>\n",
       "    <tr>\n",
       "      <th>max</th>\n",
       "      <td>527401.00</td>\n",
       "      <td>17910.34</td>\n",
       "      <td>25.00</td>\n",
       "      <td>17910.37</td>\n",
       "      <td>11.99</td>\n",
       "    </tr>\n",
       "  </tbody>\n",
       "</table>\n",
       "</div>\n",
       "    <div class=\"colab-df-buttons\">\n",
       "\n",
       "  <div class=\"colab-df-container\">\n",
       "    <button class=\"colab-df-convert\" onclick=\"convertToInteractive('df-19b26ccb-a0a7-40b7-86c7-0a00c2ebe136')\"\n",
       "            title=\"Convert this dataframe to an interactive table.\"\n",
       "            style=\"display:none;\">\n",
       "\n",
       "  <svg xmlns=\"http://www.w3.org/2000/svg\" height=\"24px\" viewBox=\"0 -960 960 960\">\n",
       "    <path d=\"M120-120v-720h720v720H120Zm60-500h600v-160H180v160Zm220 220h160v-160H400v160Zm0 220h160v-160H400v160ZM180-400h160v-160H180v160Zm440 0h160v-160H620v160ZM180-180h160v-160H180v160Zm440 0h160v-160H620v160Z\"/>\n",
       "  </svg>\n",
       "    </button>\n",
       "\n",
       "  <style>\n",
       "    .colab-df-container {\n",
       "      display:flex;\n",
       "      gap: 12px;\n",
       "    }\n",
       "\n",
       "    .colab-df-convert {\n",
       "      background-color: #E8F0FE;\n",
       "      border: none;\n",
       "      border-radius: 50%;\n",
       "      cursor: pointer;\n",
       "      display: none;\n",
       "      fill: #1967D2;\n",
       "      height: 32px;\n",
       "      padding: 0 0 0 0;\n",
       "      width: 32px;\n",
       "    }\n",
       "\n",
       "    .colab-df-convert:hover {\n",
       "      background-color: #E2EBFA;\n",
       "      box-shadow: 0px 1px 2px rgba(60, 64, 67, 0.3), 0px 1px 3px 1px rgba(60, 64, 67, 0.15);\n",
       "      fill: #174EA6;\n",
       "    }\n",
       "\n",
       "    .colab-df-buttons div {\n",
       "      margin-bottom: 4px;\n",
       "    }\n",
       "\n",
       "    [theme=dark] .colab-df-convert {\n",
       "      background-color: #3B4455;\n",
       "      fill: #D2E3FC;\n",
       "    }\n",
       "\n",
       "    [theme=dark] .colab-df-convert:hover {\n",
       "      background-color: #434B5C;\n",
       "      box-shadow: 0px 1px 3px 1px rgba(0, 0, 0, 0.15);\n",
       "      filter: drop-shadow(0px 1px 2px rgba(0, 0, 0, 0.3));\n",
       "      fill: #FFFFFF;\n",
       "    }\n",
       "  </style>\n",
       "\n",
       "    <script>\n",
       "      const buttonEl =\n",
       "        document.querySelector('#df-19b26ccb-a0a7-40b7-86c7-0a00c2ebe136 button.colab-df-convert');\n",
       "      buttonEl.style.display =\n",
       "        google.colab.kernel.accessAllowed ? 'block' : 'none';\n",
       "\n",
       "      async function convertToInteractive(key) {\n",
       "        const element = document.querySelector('#df-19b26ccb-a0a7-40b7-86c7-0a00c2ebe136');\n",
       "        const dataTable =\n",
       "          await google.colab.kernel.invokeFunction('convertToInteractive',\n",
       "                                                    [key], {});\n",
       "        if (!dataTable) return;\n",
       "\n",
       "        const docLinkHtml = 'Like what you see? Visit the ' +\n",
       "          '<a target=\"_blank\" href=https://colab.research.google.com/notebooks/data_table.ipynb>data table notebook</a>'\n",
       "          + ' to learn more about interactive tables.';\n",
       "        element.innerHTML = '';\n",
       "        dataTable['output_type'] = 'display_data';\n",
       "        await google.colab.output.renderOutput(dataTable, element);\n",
       "        const docLink = document.createElement('div');\n",
       "        docLink.innerHTML = docLinkHtml;\n",
       "        element.appendChild(docLink);\n",
       "      }\n",
       "    </script>\n",
       "  </div>\n",
       "\n",
       "\n",
       "<div id=\"df-ee485ee0-5dcf-4f03-b32a-fbf5078044b4\">\n",
       "  <button class=\"colab-df-quickchart\" onclick=\"quickchart('df-ee485ee0-5dcf-4f03-b32a-fbf5078044b4')\"\n",
       "            title=\"Suggest charts\"\n",
       "            style=\"display:none;\">\n",
       "\n",
       "<svg xmlns=\"http://www.w3.org/2000/svg\" height=\"24px\"viewBox=\"0 0 24 24\"\n",
       "     width=\"24px\">\n",
       "    <g>\n",
       "        <path d=\"M19 3H5c-1.1 0-2 .9-2 2v14c0 1.1.9 2 2 2h14c1.1 0 2-.9 2-2V5c0-1.1-.9-2-2-2zM9 17H7v-7h2v7zm4 0h-2V7h2v10zm4 0h-2v-4h2v4z\"/>\n",
       "    </g>\n",
       "</svg>\n",
       "  </button>\n",
       "\n",
       "<style>\n",
       "  .colab-df-quickchart {\n",
       "      --bg-color: #E8F0FE;\n",
       "      --fill-color: #1967D2;\n",
       "      --hover-bg-color: #E2EBFA;\n",
       "      --hover-fill-color: #174EA6;\n",
       "      --disabled-fill-color: #AAA;\n",
       "      --disabled-bg-color: #DDD;\n",
       "  }\n",
       "\n",
       "  [theme=dark] .colab-df-quickchart {\n",
       "      --bg-color: #3B4455;\n",
       "      --fill-color: #D2E3FC;\n",
       "      --hover-bg-color: #434B5C;\n",
       "      --hover-fill-color: #FFFFFF;\n",
       "      --disabled-bg-color: #3B4455;\n",
       "      --disabled-fill-color: #666;\n",
       "  }\n",
       "\n",
       "  .colab-df-quickchart {\n",
       "    background-color: var(--bg-color);\n",
       "    border: none;\n",
       "    border-radius: 50%;\n",
       "    cursor: pointer;\n",
       "    display: none;\n",
       "    fill: var(--fill-color);\n",
       "    height: 32px;\n",
       "    padding: 0;\n",
       "    width: 32px;\n",
       "  }\n",
       "\n",
       "  .colab-df-quickchart:hover {\n",
       "    background-color: var(--hover-bg-color);\n",
       "    box-shadow: 0 1px 2px rgba(60, 64, 67, 0.3), 0 1px 3px 1px rgba(60, 64, 67, 0.15);\n",
       "    fill: var(--button-hover-fill-color);\n",
       "  }\n",
       "\n",
       "  .colab-df-quickchart-complete:disabled,\n",
       "  .colab-df-quickchart-complete:disabled:hover {\n",
       "    background-color: var(--disabled-bg-color);\n",
       "    fill: var(--disabled-fill-color);\n",
       "    box-shadow: none;\n",
       "  }\n",
       "\n",
       "  .colab-df-spinner {\n",
       "    border: 2px solid var(--fill-color);\n",
       "    border-color: transparent;\n",
       "    border-bottom-color: var(--fill-color);\n",
       "    animation:\n",
       "      spin 1s steps(1) infinite;\n",
       "  }\n",
       "\n",
       "  @keyframes spin {\n",
       "    0% {\n",
       "      border-color: transparent;\n",
       "      border-bottom-color: var(--fill-color);\n",
       "      border-left-color: var(--fill-color);\n",
       "    }\n",
       "    20% {\n",
       "      border-color: transparent;\n",
       "      border-left-color: var(--fill-color);\n",
       "      border-top-color: var(--fill-color);\n",
       "    }\n",
       "    30% {\n",
       "      border-color: transparent;\n",
       "      border-left-color: var(--fill-color);\n",
       "      border-top-color: var(--fill-color);\n",
       "      border-right-color: var(--fill-color);\n",
       "    }\n",
       "    40% {\n",
       "      border-color: transparent;\n",
       "      border-right-color: var(--fill-color);\n",
       "      border-top-color: var(--fill-color);\n",
       "    }\n",
       "    60% {\n",
       "      border-color: transparent;\n",
       "      border-right-color: var(--fill-color);\n",
       "    }\n",
       "    80% {\n",
       "      border-color: transparent;\n",
       "      border-right-color: var(--fill-color);\n",
       "      border-bottom-color: var(--fill-color);\n",
       "    }\n",
       "    90% {\n",
       "      border-color: transparent;\n",
       "      border-bottom-color: var(--fill-color);\n",
       "    }\n",
       "  }\n",
       "</style>\n",
       "\n",
       "  <script>\n",
       "    async function quickchart(key) {\n",
       "      const quickchartButtonEl =\n",
       "        document.querySelector('#' + key + ' button');\n",
       "      quickchartButtonEl.disabled = true;  // To prevent multiple clicks.\n",
       "      quickchartButtonEl.classList.add('colab-df-spinner');\n",
       "      try {\n",
       "        const charts = await google.colab.kernel.invokeFunction(\n",
       "            'suggestCharts', [key], {});\n",
       "      } catch (error) {\n",
       "        console.error('Error during call to suggestCharts:', error);\n",
       "      }\n",
       "      quickchartButtonEl.classList.remove('colab-df-spinner');\n",
       "      quickchartButtonEl.classList.add('colab-df-quickchart-complete');\n",
       "    }\n",
       "    (() => {\n",
       "      let quickchartButtonEl =\n",
       "        document.querySelector('#df-ee485ee0-5dcf-4f03-b32a-fbf5078044b4 button');\n",
       "      quickchartButtonEl.style.display =\n",
       "        google.colab.kernel.accessAllowed ? 'block' : 'none';\n",
       "    })();\n",
       "  </script>\n",
       "</div>\n",
       "    </div>\n",
       "  </div>\n"
      ],
      "text/plain": [
       "       order_id  unit_price_total  item_count  paid_per_order  differences\n",
       "count  71225.00          71225.00    71225.00        71225.00     71225.00\n",
       "mean  412553.85            427.24        1.27          430.19         2.95\n",
       "std    65399.23            771.07        0.70          770.37         3.00\n",
       "min   241423.00              2.49        1.00            2.49         0.00\n",
       "25%   358371.00             48.98        1.00           50.98         0.00\n",
       "50%   413908.00            124.98        1.00          128.89         3.99\n",
       "75%   468430.00            409.00        1.00          409.39         4.99\n",
       "max   527401.00          17910.34       25.00        17910.37        11.99"
      ]
     },
     "execution_count": 43,
     "metadata": {},
     "output_type": "execute_result"
    }
   ],
   "source": [
    "price_comp_qu.describe()"
   ]
  },
  {
   "cell_type": "code",
   "execution_count": null,
   "metadata": {
    "id": "Jy-5RdTMOY6j"
   },
   "outputs": [],
   "source": [
    "# Define the Order Ids with the outlier prices\n",
    "outlier_order_ids = price_comp.loc[(price_comp.differences <= -0.01)|(price_comp.differences > outlier_plus),\"order_id\" ].copy().to_list()"
   ]
  },
  {
   "cell_type": "code",
   "execution_count": null,
   "metadata": {
    "colab": {
     "base_uri": "https://localhost:8080/"
    },
    "executionInfo": {
     "elapsed": 8,
     "status": "ok",
     "timestamp": 1703333524656,
     "user": {
      "displayName": "Hanne Pruefer",
      "userId": "00023317629764901987"
     },
     "user_tz": -60
    },
    "id": "w2INi-A3_6eP",
    "outputId": "bda7c9ea-0c97-4efb-e4d3-692be016eae5"
   },
   "outputs": [
    {
     "name": "stdout",
     "output_type": "stream",
     "text": [
      "1996\n"
     ]
    }
   ],
   "source": [
    "print(len(outlier_order_ids))"
   ]
  },
  {
   "cell_type": "code",
   "execution_count": null,
   "metadata": {
    "id": "Bdh4yw37_EsW"
   },
   "outputs": [],
   "source": [
    "# Reduce the Dataframes accordingly\n",
    "orders_qu2 = orders_qu.loc[~(orders_qu.order_id.isin(outlier_order_ids)),:].copy()\n",
    "orderlines_qu2 = orderlines_qu.loc[~(orderlines_qu.order_id.isin(outlier_order_ids)),:].copy()\n",
    "all_orders_qu2 = all_orders_qu.loc[~(all_orders_qu.order_id.isin(outlier_order_ids)),:].copy()"
   ]
  },
  {
   "cell_type": "code",
   "execution_count": null,
   "metadata": {
    "id": "Zm6w2zCq_u6v"
   },
   "outputs": [],
   "source": [
    "orders_qu2.shape"
   ]
  },
  {
   "cell_type": "code",
   "execution_count": null,
   "metadata": {
    "colab": {
     "base_uri": "https://localhost:8080/"
    },
    "executionInfo": {
     "elapsed": 242,
     "status": "ok",
     "timestamp": 1703333534416,
     "user": {
      "displayName": "Hanne Pruefer",
      "userId": "00023317629764901987"
     },
     "user_tz": -60
    },
    "id": "hGVHvKmHBkau",
    "outputId": "f48e5741-ba3c-4778-9a66-87b9c43cf80f"
   },
   "outputs": [
    {
     "data": {
      "text/plain": [
       "(90348, 7)"
      ]
     },
     "execution_count": 49,
     "metadata": {},
     "output_type": "execute_result"
    }
   ],
   "source": [
    "orderlines_qu2.shape"
   ]
  },
  {
   "cell_type": "code",
   "execution_count": null,
   "metadata": {
    "id": "QMgUNmoaBxUX"
   },
   "outputs": [],
   "source": [
    "# both dfs should be the same size\n",
    "len(list(orders_qu2[\"order_id\"].unique())), len(list(orderlines_qu2[\"order_id\"].unique()))"
   ]
  },
  {
   "cell_type": "code",
   "execution_count": null,
   "metadata": {
    "colab": {
     "base_uri": "https://localhost:8080/",
     "height": 300
    },
    "executionInfo": {
     "elapsed": 429,
     "status": "ok",
     "timestamp": 1703333539184,
     "user": {
      "displayName": "Hanne Pruefer",
      "userId": "00023317629764901987"
     },
     "user_tz": -60
    },
    "id": "KmURzDUpiKVd",
    "outputId": "5e065f52-25aa-4222-a096-dec337b522bb"
   },
   "outputs": [
    {
     "data": {
      "text/html": [
       "\n",
       "  <div id=\"df-7d2ddf7b-fb52-477c-ad2e-0edf07e263f9\" class=\"colab-df-container\">\n",
       "    <div>\n",
       "<style scoped>\n",
       "    .dataframe tbody tr th:only-of-type {\n",
       "        vertical-align: middle;\n",
       "    }\n",
       "\n",
       "    .dataframe tbody tr th {\n",
       "        vertical-align: top;\n",
       "    }\n",
       "\n",
       "    .dataframe thead th {\n",
       "        text-align: right;\n",
       "    }\n",
       "</style>\n",
       "<table border=\"1\" class=\"dataframe\">\n",
       "  <thead>\n",
       "    <tr style=\"text-align: right;\">\n",
       "      <th></th>\n",
       "      <th>id</th>\n",
       "      <th>order_id</th>\n",
       "      <th>product_quantity</th>\n",
       "      <th>unit_price</th>\n",
       "      <th>total_paid</th>\n",
       "      <th>price</th>\n",
       "      <th>unit_price_total</th>\n",
       "    </tr>\n",
       "  </thead>\n",
       "  <tbody>\n",
       "    <tr>\n",
       "      <th>count</th>\n",
       "      <td>90348.00</td>\n",
       "      <td>90348.00</td>\n",
       "      <td>90348.00</td>\n",
       "      <td>90348.00</td>\n",
       "      <td>90348.00</td>\n",
       "      <td>90348.00</td>\n",
       "      <td>90348.00</td>\n",
       "    </tr>\n",
       "    <tr>\n",
       "      <th>mean</th>\n",
       "      <td>1380701.04</td>\n",
       "      <td>412384.30</td>\n",
       "      <td>1.11</td>\n",
       "      <td>323.24</td>\n",
       "      <td>507.23</td>\n",
       "      <td>366.81</td>\n",
       "      <td>336.81</td>\n",
       "    </tr>\n",
       "    <tr>\n",
       "      <th>std</th>\n",
       "      <td>150025.87</td>\n",
       "      <td>65115.15</td>\n",
       "      <td>2.75</td>\n",
       "      <td>627.12</td>\n",
       "      <td>939.64</td>\n",
       "      <td>697.20</td>\n",
       "      <td>652.85</td>\n",
       "    </tr>\n",
       "    <tr>\n",
       "      <th>min</th>\n",
       "      <td>1119116.00</td>\n",
       "      <td>241423.00</td>\n",
       "      <td>1.00</td>\n",
       "      <td>0.01</td>\n",
       "      <td>2.49</td>\n",
       "      <td>2.99</td>\n",
       "      <td>0.01</td>\n",
       "    </tr>\n",
       "    <tr>\n",
       "      <th>25%</th>\n",
       "      <td>1256275.00</td>\n",
       "      <td>358813.75</td>\n",
       "      <td>1.00</td>\n",
       "      <td>31.44</td>\n",
       "      <td>56.98</td>\n",
       "      <td>43.90</td>\n",
       "      <td>32.99</td>\n",
       "    </tr>\n",
       "    <tr>\n",
       "      <th>50%</th>\n",
       "      <td>1382236.50</td>\n",
       "      <td>413746.00</td>\n",
       "      <td>1.00</td>\n",
       "      <td>81.99</td>\n",
       "      <td>153.98</td>\n",
       "      <td>99.99</td>\n",
       "      <td>86.99</td>\n",
       "    </tr>\n",
       "    <tr>\n",
       "      <th>75%</th>\n",
       "      <td>1508774.75</td>\n",
       "      <td>467874.50</td>\n",
       "      <td>1.00</td>\n",
       "      <td>288.99</td>\n",
       "      <td>486.87</td>\n",
       "      <td>359.00</td>\n",
       "      <td>309.00</td>\n",
       "    </tr>\n",
       "    <tr>\n",
       "      <th>max</th>\n",
       "      <td>1650203.00</td>\n",
       "      <td>527401.00</td>\n",
       "      <td>800.00</td>\n",
       "      <td>14725.00</td>\n",
       "      <td>17910.37</td>\n",
       "      <td>15339.00</td>\n",
       "      <td>14725.00</td>\n",
       "    </tr>\n",
       "  </tbody>\n",
       "</table>\n",
       "</div>\n",
       "    <div class=\"colab-df-buttons\">\n",
       "\n",
       "  <div class=\"colab-df-container\">\n",
       "    <button class=\"colab-df-convert\" onclick=\"convertToInteractive('df-7d2ddf7b-fb52-477c-ad2e-0edf07e263f9')\"\n",
       "            title=\"Convert this dataframe to an interactive table.\"\n",
       "            style=\"display:none;\">\n",
       "\n",
       "  <svg xmlns=\"http://www.w3.org/2000/svg\" height=\"24px\" viewBox=\"0 -960 960 960\">\n",
       "    <path d=\"M120-120v-720h720v720H120Zm60-500h600v-160H180v160Zm220 220h160v-160H400v160Zm0 220h160v-160H400v160ZM180-400h160v-160H180v160Zm440 0h160v-160H620v160ZM180-180h160v-160H180v160Zm440 0h160v-160H620v160Z\"/>\n",
       "  </svg>\n",
       "    </button>\n",
       "\n",
       "  <style>\n",
       "    .colab-df-container {\n",
       "      display:flex;\n",
       "      gap: 12px;\n",
       "    }\n",
       "\n",
       "    .colab-df-convert {\n",
       "      background-color: #E8F0FE;\n",
       "      border: none;\n",
       "      border-radius: 50%;\n",
       "      cursor: pointer;\n",
       "      display: none;\n",
       "      fill: #1967D2;\n",
       "      height: 32px;\n",
       "      padding: 0 0 0 0;\n",
       "      width: 32px;\n",
       "    }\n",
       "\n",
       "    .colab-df-convert:hover {\n",
       "      background-color: #E2EBFA;\n",
       "      box-shadow: 0px 1px 2px rgba(60, 64, 67, 0.3), 0px 1px 3px 1px rgba(60, 64, 67, 0.15);\n",
       "      fill: #174EA6;\n",
       "    }\n",
       "\n",
       "    .colab-df-buttons div {\n",
       "      margin-bottom: 4px;\n",
       "    }\n",
       "\n",
       "    [theme=dark] .colab-df-convert {\n",
       "      background-color: #3B4455;\n",
       "      fill: #D2E3FC;\n",
       "    }\n",
       "\n",
       "    [theme=dark] .colab-df-convert:hover {\n",
       "      background-color: #434B5C;\n",
       "      box-shadow: 0px 1px 3px 1px rgba(0, 0, 0, 0.15);\n",
       "      filter: drop-shadow(0px 1px 2px rgba(0, 0, 0, 0.3));\n",
       "      fill: #FFFFFF;\n",
       "    }\n",
       "  </style>\n",
       "\n",
       "    <script>\n",
       "      const buttonEl =\n",
       "        document.querySelector('#df-7d2ddf7b-fb52-477c-ad2e-0edf07e263f9 button.colab-df-convert');\n",
       "      buttonEl.style.display =\n",
       "        google.colab.kernel.accessAllowed ? 'block' : 'none';\n",
       "\n",
       "      async function convertToInteractive(key) {\n",
       "        const element = document.querySelector('#df-7d2ddf7b-fb52-477c-ad2e-0edf07e263f9');\n",
       "        const dataTable =\n",
       "          await google.colab.kernel.invokeFunction('convertToInteractive',\n",
       "                                                    [key], {});\n",
       "        if (!dataTable) return;\n",
       "\n",
       "        const docLinkHtml = 'Like what you see? Visit the ' +\n",
       "          '<a target=\"_blank\" href=https://colab.research.google.com/notebooks/data_table.ipynb>data table notebook</a>'\n",
       "          + ' to learn more about interactive tables.';\n",
       "        element.innerHTML = '';\n",
       "        dataTable['output_type'] = 'display_data';\n",
       "        await google.colab.output.renderOutput(dataTable, element);\n",
       "        const docLink = document.createElement('div');\n",
       "        docLink.innerHTML = docLinkHtml;\n",
       "        element.appendChild(docLink);\n",
       "      }\n",
       "    </script>\n",
       "  </div>\n",
       "\n",
       "\n",
       "<div id=\"df-d5be0505-7dd3-49e2-b5f0-d13dfa12fb98\">\n",
       "  <button class=\"colab-df-quickchart\" onclick=\"quickchart('df-d5be0505-7dd3-49e2-b5f0-d13dfa12fb98')\"\n",
       "            title=\"Suggest charts\"\n",
       "            style=\"display:none;\">\n",
       "\n",
       "<svg xmlns=\"http://www.w3.org/2000/svg\" height=\"24px\"viewBox=\"0 0 24 24\"\n",
       "     width=\"24px\">\n",
       "    <g>\n",
       "        <path d=\"M19 3H5c-1.1 0-2 .9-2 2v14c0 1.1.9 2 2 2h14c1.1 0 2-.9 2-2V5c0-1.1-.9-2-2-2zM9 17H7v-7h2v7zm4 0h-2V7h2v10zm4 0h-2v-4h2v4z\"/>\n",
       "    </g>\n",
       "</svg>\n",
       "  </button>\n",
       "\n",
       "<style>\n",
       "  .colab-df-quickchart {\n",
       "      --bg-color: #E8F0FE;\n",
       "      --fill-color: #1967D2;\n",
       "      --hover-bg-color: #E2EBFA;\n",
       "      --hover-fill-color: #174EA6;\n",
       "      --disabled-fill-color: #AAA;\n",
       "      --disabled-bg-color: #DDD;\n",
       "  }\n",
       "\n",
       "  [theme=dark] .colab-df-quickchart {\n",
       "      --bg-color: #3B4455;\n",
       "      --fill-color: #D2E3FC;\n",
       "      --hover-bg-color: #434B5C;\n",
       "      --hover-fill-color: #FFFFFF;\n",
       "      --disabled-bg-color: #3B4455;\n",
       "      --disabled-fill-color: #666;\n",
       "  }\n",
       "\n",
       "  .colab-df-quickchart {\n",
       "    background-color: var(--bg-color);\n",
       "    border: none;\n",
       "    border-radius: 50%;\n",
       "    cursor: pointer;\n",
       "    display: none;\n",
       "    fill: var(--fill-color);\n",
       "    height: 32px;\n",
       "    padding: 0;\n",
       "    width: 32px;\n",
       "  }\n",
       "\n",
       "  .colab-df-quickchart:hover {\n",
       "    background-color: var(--hover-bg-color);\n",
       "    box-shadow: 0 1px 2px rgba(60, 64, 67, 0.3), 0 1px 3px 1px rgba(60, 64, 67, 0.15);\n",
       "    fill: var(--button-hover-fill-color);\n",
       "  }\n",
       "\n",
       "  .colab-df-quickchart-complete:disabled,\n",
       "  .colab-df-quickchart-complete:disabled:hover {\n",
       "    background-color: var(--disabled-bg-color);\n",
       "    fill: var(--disabled-fill-color);\n",
       "    box-shadow: none;\n",
       "  }\n",
       "\n",
       "  .colab-df-spinner {\n",
       "    border: 2px solid var(--fill-color);\n",
       "    border-color: transparent;\n",
       "    border-bottom-color: var(--fill-color);\n",
       "    animation:\n",
       "      spin 1s steps(1) infinite;\n",
       "  }\n",
       "\n",
       "  @keyframes spin {\n",
       "    0% {\n",
       "      border-color: transparent;\n",
       "      border-bottom-color: var(--fill-color);\n",
       "      border-left-color: var(--fill-color);\n",
       "    }\n",
       "    20% {\n",
       "      border-color: transparent;\n",
       "      border-left-color: var(--fill-color);\n",
       "      border-top-color: var(--fill-color);\n",
       "    }\n",
       "    30% {\n",
       "      border-color: transparent;\n",
       "      border-left-color: var(--fill-color);\n",
       "      border-top-color: var(--fill-color);\n",
       "      border-right-color: var(--fill-color);\n",
       "    }\n",
       "    40% {\n",
       "      border-color: transparent;\n",
       "      border-right-color: var(--fill-color);\n",
       "      border-top-color: var(--fill-color);\n",
       "    }\n",
       "    60% {\n",
       "      border-color: transparent;\n",
       "      border-right-color: var(--fill-color);\n",
       "    }\n",
       "    80% {\n",
       "      border-color: transparent;\n",
       "      border-right-color: var(--fill-color);\n",
       "      border-bottom-color: var(--fill-color);\n",
       "    }\n",
       "    90% {\n",
       "      border-color: transparent;\n",
       "      border-bottom-color: var(--fill-color);\n",
       "    }\n",
       "  }\n",
       "</style>\n",
       "\n",
       "  <script>\n",
       "    async function quickchart(key) {\n",
       "      const quickchartButtonEl =\n",
       "        document.querySelector('#' + key + ' button');\n",
       "      quickchartButtonEl.disabled = true;  // To prevent multiple clicks.\n",
       "      quickchartButtonEl.classList.add('colab-df-spinner');\n",
       "      try {\n",
       "        const charts = await google.colab.kernel.invokeFunction(\n",
       "            'suggestCharts', [key], {});\n",
       "      } catch (error) {\n",
       "        console.error('Error during call to suggestCharts:', error);\n",
       "      }\n",
       "      quickchartButtonEl.classList.remove('colab-df-spinner');\n",
       "      quickchartButtonEl.classList.add('colab-df-quickchart-complete');\n",
       "    }\n",
       "    (() => {\n",
       "      let quickchartButtonEl =\n",
       "        document.querySelector('#df-d5be0505-7dd3-49e2-b5f0-d13dfa12fb98 button');\n",
       "      quickchartButtonEl.style.display =\n",
       "        google.colab.kernel.accessAllowed ? 'block' : 'none';\n",
       "    })();\n",
       "  </script>\n",
       "</div>\n",
       "    </div>\n",
       "  </div>\n"
      ],
      "text/plain": [
       "              id  order_id  product_quantity  unit_price  total_paid    price  \\\n",
       "count   90348.00  90348.00          90348.00    90348.00    90348.00 90348.00   \n",
       "mean  1380701.04 412384.30              1.11      323.24      507.23   366.81   \n",
       "std    150025.87  65115.15              2.75      627.12      939.64   697.20   \n",
       "min   1119116.00 241423.00              1.00        0.01        2.49     2.99   \n",
       "25%   1256275.00 358813.75              1.00       31.44       56.98    43.90   \n",
       "50%   1382236.50 413746.00              1.00       81.99      153.98    99.99   \n",
       "75%   1508774.75 467874.50              1.00      288.99      486.87   359.00   \n",
       "max   1650203.00 527401.00            800.00    14725.00    17910.37 15339.00   \n",
       "\n",
       "       unit_price_total  \n",
       "count          90348.00  \n",
       "mean             336.81  \n",
       "std              652.85  \n",
       "min                0.01  \n",
       "25%               32.99  \n",
       "50%               86.99  \n",
       "75%              309.00  \n",
       "max            14725.00  "
      ]
     },
     "execution_count": 51,
     "metadata": {},
     "output_type": "execute_result"
    }
   ],
   "source": [
    "all_orders_qu2.describe()"
   ]
  },
  {
   "cell_type": "markdown",
   "metadata": {
    "id": "rf11tbHwwewX"
   },
   "source": [
    "## 5.&nbsp;  Calculate the Discounts between base price and current\n",
    "\n",
    "Base prices should not be lower than actual prices (negative Discounts)"
   ]
  },
  {
   "cell_type": "code",
   "execution_count": null,
   "metadata": {
    "id": "P6lAsOL2CBUm"
   },
   "outputs": [],
   "source": [
    "#Rearrange the Column order\n",
    "all_orders_qu2 = all_orders_qu2[[\"id\",\"order_id\",\"sku\",\"name\", \"desc\", \"type\", \"created_date\",\"date\",\"state\", \"unit_price\", \"product_quantity\",\"unit_price_total\", \"price\",\"total_paid\" ]]"
   ]
  },
  {
   "cell_type": "code",
   "execution_count": null,
   "metadata": {
    "id": "x3qeC29yqCsG"
   },
   "outputs": [],
   "source": [
    "all_orders_qu2.set_index(\"id\")"
   ]
  },
  {
   "cell_type": "code",
   "execution_count": null,
   "metadata": {
    "id": "THOI6LTcn1zr"
   },
   "outputs": [],
   "source": [
    "#New Column discounts as percentage: difference between actual price and base prise / base price\n",
    "all_orders_qu2[\"discount_percentage\"] = ((all_orders_qu2[\"price\"] - all_orders_qu2[\"unit_price\"])/all_orders_qu2[\"price\"])*100"
   ]
  },
  {
   "cell_type": "code",
   "execution_count": null,
   "metadata": {
    "colab": {
     "base_uri": "https://localhost:8080/"
    },
    "executionInfo": {
     "elapsed": 8,
     "status": "ok",
     "timestamp": 1703333552786,
     "user": {
      "displayName": "Hanne Pruefer",
      "userId": "00023317629764901987"
     },
     "user_tz": -60
    },
    "id": "POcnudSip0ca",
    "outputId": "4f3b5664-78d1-4626-813b-f87db6f89ec3"
   },
   "outputs": [
    {
     "data": {
      "text/plain": [
       "count    90348.00\n",
       "mean        18.37\n",
       "std         75.93\n",
       "min     -21937.97\n",
       "25%          6.51\n",
       "50%         15.00\n",
       "75%         25.24\n",
       "max         99.98\n",
       "Name: discount_percentage, dtype: float64"
      ]
     },
     "execution_count": 55,
     "metadata": {},
     "output_type": "execute_result"
    }
   ],
   "source": [
    "#there are negative discounts\n",
    "all_orders_qu2[\"discount_percentage\"].describe()"
   ]
  },
  {
   "cell_type": "code",
   "execution_count": null,
   "metadata": {
    "id": "KfJWHdmgxEqG"
   },
   "outputs": [],
   "source": [
    "#write all order_ids with negative discounts into a list\n",
    "negative_discount_orderids = all_orders_qu2.loc[all_orders_qu2.discount_percentage < 0,\"order_id\"].to_list()"
   ]
  },
  {
   "cell_type": "code",
   "execution_count": null,
   "metadata": {
    "id": "mZvy3yaaN3Qr"
   },
   "outputs": [],
   "source": [
    "print(len(negative_discount_orderids))"
   ]
  },
  {
   "cell_type": "code",
   "execution_count": null,
   "metadata": {
    "id": "89-yBh5YOOYa"
   },
   "outputs": [],
   "source": [
    "#remove the complete orders with negative discounted lines from the table\n",
    "all_orders_qu3 =all_orders_qu2.loc[~(all_orders_qu2.order_id.isin(negative_discount_orderids)),:]"
   ]
  },
  {
   "cell_type": "code",
   "execution_count": null,
   "metadata": {
    "colab": {
     "base_uri": "https://localhost:8080/"
    },
    "executionInfo": {
     "elapsed": 7,
     "status": "ok",
     "timestamp": 1703333567238,
     "user": {
      "displayName": "Hanne Pruefer",
      "userId": "00023317629764901987"
     },
     "user_tz": -60
    },
    "id": "KJ-Rel41Oya6",
    "outputId": "5e8c6f25-3cec-44a2-e279-7eea11368c61"
   },
   "outputs": [
    {
     "data": {
      "text/plain": [
       "(85867, 15)"
      ]
     },
     "execution_count": 60,
     "metadata": {},
     "output_type": "execute_result"
    }
   ],
   "source": [
    "all_orders_qu3.shape"
   ]
  },
  {
   "cell_type": "markdown",
   "metadata": {
    "id": "FWROzNEd8b8d"
   },
   "source": [
    "## 6.&nbsp; Download of the qualified Datasets"
   ]
  },
  {
   "cell_type": "code",
   "execution_count": null,
   "metadata": {
    "id": "TTguHGicr2tp"
   },
   "outputs": [],
   "source": [
    "all_orders_qu3.to_csv(\"all_orders_qu.csv\", index=False)\n"
   ]
  }
 ],
 "metadata": {
  "colab": {
   "collapsed_sections": [
    "hzwXSr-xfh97"
   ],
   "provenance": [
    {
     "file_id": "1Bj7hMJhRih-7k0o0eOjl_RvJRnu-S653",
     "timestamp": 1701851795891
    },
    {
     "file_id": "12dvr7WGPjOAZKy0jMCpHuvKg2ZtaOQwv",
     "timestamp": 1660047699809
    }
   ]
  },
  "kernelspec": {
   "display_name": "Python 3 (ipykernel)",
   "language": "python",
   "name": "python3"
  },
  "language_info": {
   "codemirror_mode": {
    "name": "ipython",
    "version": 3
   },
   "file_extension": ".py",
   "mimetype": "text/x-python",
   "name": "python",
   "nbconvert_exporter": "python",
   "pygments_lexer": "ipython3",
   "version": "3.11.5"
  }
 },
 "nbformat": 4,
 "nbformat_minor": 4
}
