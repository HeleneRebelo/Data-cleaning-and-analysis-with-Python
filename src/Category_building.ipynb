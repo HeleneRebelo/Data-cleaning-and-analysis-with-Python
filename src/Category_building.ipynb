{
 "cells": [
  {
   "cell_type": "markdown",
   "metadata": {
    "id": "RtAb8S19yR32"
   },
   "source": [
    "# Categories"
   ]
  },
  {
   "cell_type": "markdown",
   "metadata": {
    "id": "pwu1o_l_yVct"
   },
   "source": [
    "## A Importing the data"
   ]
  },
  {
   "cell_type": "code",
   "execution_count": null,
   "metadata": {
    "executionInfo": {
     "elapsed": 244,
     "status": "ok",
     "timestamp": 1703334424973,
     "user": {
      "displayName": "Hanne Pruefer",
      "userId": "00023317629764901987"
     },
     "user_tz": -60
    },
    "id": "gZ9Fbe-nzH99"
   },
   "outputs": [],
   "source": [
    "import pandas as pd"
   ]
  },
  {
   "cell_type": "code",
   "execution_count": null,
   "metadata": {
    "executionInfo": {
     "elapsed": 1667,
     "status": "ok",
     "timestamp": 1703334427022,
     "user": {
      "displayName": "Hanne Pruefer",
      "userId": "00023317629764901987"
     },
     "user_tz": -60
    },
    "id": "G4os7DCWyvRa"
   },
   "outputs": [],
   "source": [
    "#load the cleaned and qualified all_orders_qual.csv from the directory data\n",
    "all_orders_qu = pd.read_csv(\"all_orders_qu.csv\")"
   ]
  },
  {
   "cell_type": "code",
   "execution_count": null,
   "metadata": {
    "executionInfo": {
     "elapsed": 402,
     "status": "ok",
     "timestamp": 1703334427420,
     "user": {
      "displayName": "Hanne Pruefer",
      "userId": "00023317629764901987"
     },
     "user_tz": -60
    },
    "id": "Du1Y2wpj2KSP"
   },
   "outputs": [],
   "source": [
    "# load the CSV file brands from the directory data \n",
    "brands = pd.read_csv(\"brands.csv\")"
   ]
  },
  {
   "cell_type": "code",
   "execution_count": null,
   "metadata": {
    "executionInfo": {
     "elapsed": 15,
     "status": "ok",
     "timestamp": 1703334427420,
     "user": {
      "displayName": "Hanne Pruefer",
      "userId": "00023317629764901987"
     },
     "user_tz": -60
    },
    "id": "3pBD83JdgrBW"
   },
   "outputs": [],
   "source": [
    "pd.options.display.min_rows = 30\n",
    "pd.options.display.max_rows = 100\n",
    "pd.set_option(\"display.max_colwidth\", 100)"
   ]
  },
  {
   "cell_type": "markdown",
   "metadata": {
    "id": "5Aj0zvr87ZPQ"
   },
   "source": [
    "### formatting some columns / Further cleaning"
   ]
  },
  {
   "cell_type": "code",
   "execution_count": null,
   "metadata": {
    "executionInfo": {
     "elapsed": 14,
     "status": "ok",
     "timestamp": 1703334427421,
     "user": {
      "displayName": "Hanne Pruefer",
      "userId": "00023317629764901987"
     },
     "user_tz": -60
    },
    "id": "LLNLxRxt7Yq4"
   },
   "outputs": [],
   "source": [
    "all_orders_qu[\"discount_percentage\"] =  all_orders_qu['discount_percentage'].round(2)"
   ]
  },
  {
   "cell_type": "code",
   "execution_count": null,
   "metadata": {
    "executionInfo": {
     "elapsed": 14,
     "status": "ok",
     "timestamp": 1703334427421,
     "user": {
      "displayName": "Hanne Pruefer",
      "userId": "00023317629764901987"
     },
     "user_tz": -60
    },
    "id": "pmaCBitv1W5T"
   },
   "outputs": [],
   "source": [
    "#convert  Date Columns to datetimes\n",
    "all_orders_qu[\"created_date\"] = pd.to_datetime(all_orders_qu[\"created_date\"])"
   ]
  },
  {
   "cell_type": "code",
   "execution_count": null,
   "metadata": {
    "executionInfo": {
     "elapsed": 13,
     "status": "ok",
     "timestamp": 1703334427421,
     "user": {
      "displayName": "Hanne Pruefer",
      "userId": "00023317629764901987"
     },
     "user_tz": -60
    },
    "id": "6P-GCg6h2TAi"
   },
   "outputs": [],
   "source": [
    "all_orders_qu[\"date\"] = pd.to_datetime(all_orders_qu[\"date\"])"
   ]
  },
  {
   "cell_type": "code",
   "execution_count": null,
   "metadata": {
    "colab": {
     "base_uri": "https://localhost:8080/"
    },
    "executionInfo": {
     "elapsed": 273,
     "status": "ok",
     "timestamp": 1703334427682,
     "user": {
      "displayName": "Hanne Pruefer",
      "userId": "00023317629764901987"
     },
     "user_tz": -60
    },
    "id": "Mm1F7reF28jl",
    "outputId": "c1906c15-bc85-40b0-bda6-655d120b859b"
   },
   "outputs": [],
   "source": [
    "all_orders_qu.info()"
   ]
  },
  {
   "cell_type": "markdown",
   "metadata": {
    "id": "5rU-GeU62kwQ"
   },
   "source": [
    "## B Creating categories by types"
   ]
  },
  {
   "cell_type": "code",
   "execution_count": null,
   "metadata": {
    "executionInfo": {
     "elapsed": 12,
     "status": "ok",
     "timestamp": 1703334427683,
     "user": {
      "displayName": "Hanne Pruefer",
      "userId": "00023317629764901987"
     },
     "user_tz": -60
    },
    "id": "uo4mE9SK2tD1"
   },
   "outputs": [],
   "source": [
    "def category_setting(dataf):\n",
    "    all_orders_cat = dataf.copy() # Copy of the originial dataframe\n",
    "    all_orders_cat.insert(6,column=\"category\", value=\"\") #insert a column\n",
    "    # create temporary list and dataframe to separate the the types with the most items\n",
    "    temp_df = all_orders_cat.groupby(\"type\", as_index=False).count().nlargest(30,columns=\"order_id\")\n",
    "    type_lst = temp_df[\"type\"].to_list()\n",
    "    # set all items that do not belong to these types to category \"others\"\n",
    "    all_orders_cat.loc[~(all_orders_cat[\"type\"].isin(type_lst)),\"category\"] = \"others\"\n",
    "\n",
    "    #Sort specific types\n",
    "    all_orders_cat.loc[(all_orders_cat[\"type\"].isin([\"1,02E+12\",\"1282\", \"5,74E+15\",\"2,17E+11\"])),\"category\"] = \"Laptops & Desktop computers\"\n",
    "    all_orders_cat.loc[(all_orders_cat[\"type\"].str.contains(r\"1716\\Z\")),\"category\"] = \"Smartphones\"\n",
    "    all_orders_cat.loc[(all_orders_cat[\"type\"]==\"5398\"),\"category\"] = \"Speaker\"\n",
    "    all_orders_cat.loc[(all_orders_cat[\"type\"].str.contains(r\"5403\\Z\"))|(all_orders_cat[\"type\"]==\"1392\"),\"category\"] = \"Cases & Covers\"\n",
    "    all_orders_cat.loc[(all_orders_cat[\"type\"]==\"5384\"),\"category\"] = \"Earphones\"\n",
    "    all_orders_cat.loc[(all_orders_cat[\"type\"].isin([\"5395\",\"11905404\",\"24895185\", \"24885185\"])),\"category\"] = \"Smart Gadgets\"\n",
    "    all_orders_cat.loc[(all_orders_cat[\"type\"].str.contains(r\"5397\\Z\"))|(all_orders_cat[\"type\"].isin([\"12755395\",\"1364\"])),\"category\"] = \"Hardware\"\n",
    "    all_orders_cat.loc[(all_orders_cat[\"type\"].isin([\"1229\",\"1230\",\"1433\",\"12585395\",\"13615399\",\"1325\",\"1387\",\"10142\",\"14365395\", \"1515\", \"8696\", \"13005399\"])),\"category\"] = \"Accessories\"\n",
    "    all_orders_cat.loc[(all_orders_cat[\"type\"].isin([\"1405\",\"106431714\",\"1714\",\"51871714\"])),\"category\"] = \"Tablets\"\n",
    "    all_orders_cat.loc[(all_orders_cat[\"type\"]==\"1231\"),\"category\"] = \"Services\"\n",
    "    all_orders_cat.loc[(all_orders_cat[\"type\"].isin([\"13855401\",\"1296\",\"5401\"])),\"category\"] = \"Keyboards & Monitors\"\n",
    "    return all_orders_cat"
   ]
  },
  {
   "cell_type": "code",
   "execution_count": null,
   "metadata": {
    "executionInfo": {
     "elapsed": 418,
     "status": "ok",
     "timestamp": 1703334428091,
     "user": {
      "displayName": "Hanne Pruefer",
      "userId": "00023317629764901987"
     },
     "user_tz": -60
    },
    "id": "b0wOl5Tus771"
   },
   "outputs": [],
   "source": [
    "all_orders_cat = category_setting(all_orders_qu)"
   ]
  },
  {
   "cell_type": "markdown",
   "metadata": {
    "id": "VGCw5ysUE25-"
   },
   "source": [
    "### B1 checking the values"
   ]
  },
  {
   "cell_type": "code",
   "execution_count": null,
   "metadata": {
    "colab": {
     "base_uri": "https://localhost:8080/"
    },
    "executionInfo": {
     "elapsed": 19,
     "status": "ok",
     "timestamp": 1703334428092,
     "user": {
      "displayName": "Hanne Pruefer",
      "userId": "00023317629764901987"
     },
     "user_tz": -60
    },
    "id": "dO5GFy_uPC3Y",
    "outputId": "1080b705-eea0-401f-85b6-3662e7e01c1a"
   },
   "outputs": [],
   "source": [
    "all_orders_cat.groupby(\"category\")[\"order_id\"].count()"
   ]
  },
  {
   "cell_type": "code",
   "execution_count": null,
   "metadata": {
    "colab": {
     "base_uri": "https://localhost:8080/"
    },
    "executionInfo": {
     "elapsed": 15,
     "status": "ok",
     "timestamp": 1703334428093,
     "user": {
      "displayName": "Hanne Pruefer",
      "userId": "00023317629764901987"
     },
     "user_tz": -60
    },
    "id": "3UQmn8GgPmmg",
    "outputId": "57438294-8d95-406f-dfef-a5a2f7256ddb"
   },
   "outputs": [],
   "source": [
    "# Percentage of others at 10%\n",
    "x = 8696/85867\n",
    "x"
   ]
  },
  {
   "cell_type": "code",
   "execution_count": null,
   "metadata": {
    "colab": {
     "base_uri": "https://localhost:8080/",
     "height": 17
    },
    "executionInfo": {
     "elapsed": 1413,
     "status": "ok",
     "timestamp": 1703334429495,
     "user": {
      "displayName": "Hanne Pruefer",
      "userId": "00023317629764901987"
     },
     "user_tz": -60
    },
    "id": "cOOdQft7NDBW",
    "outputId": "f97913bf-04c6-437a-b0f9-28aeaf3dcc2e"
   },
   "outputs": [],
   "source": [
    "# download the complete table\n",
    "\n",
    "all_orders_cat_br.to_csv(\"all_orders_cat.csv\", index=False)"
   ]
  }
 ],
 "metadata": {
  "colab": {
   "authorship_tag": "ABX9TyNQEFM4AJDKQSszMx1s9Ap/",
   "collapsed_sections": [
    "VGCw5ysUE25-"
   ],
   "provenance": [
    {
     "file_id": "1Fcnwx7iJAzmsgaQ_u4NttGSTiby6_2fB",
     "timestamp": 1702029150376
    }
   ]
  },
  "kernelspec": {
   "display_name": "Python 3 (ipykernel)",
   "language": "python",
   "name": "python3"
  },
  "language_info": {
   "codemirror_mode": {
    "name": "ipython",
    "version": 3
   },
   "file_extension": ".py",
   "mimetype": "text/x-python",
   "name": "python",
   "nbconvert_exporter": "python",
   "pygments_lexer": "ipython3",
   "version": "3.11.5"
  }
 },
 "nbformat": 4,
 "nbformat_minor": 4
}
